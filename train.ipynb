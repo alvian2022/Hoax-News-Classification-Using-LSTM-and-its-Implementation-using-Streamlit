{
 "cells": [
  {
   "cell_type": "code",
   "execution_count": 12,
   "metadata": {},
   "outputs": [
    {
     "name": "stderr",
     "output_type": "stream",
     "text": [
      "c:\\Users\\User\\Anaconda3\\envs\\metopen\\lib\\site-packages\\tqdm\\auto.py:22: TqdmWarning: IProgress not found. Please update jupyter and ipywidgets. See https://ipywidgets.readthedocs.io/en/stable/user_install.html\n",
      "  from .autonotebook import tqdm as notebook_tqdm\n"
     ]
    }
   ],
   "source": [
    "import pandas as pd\n",
    "import numpy as np\n",
    "import pytypo\n",
    "import re\n",
    "import emoji\n",
    "\n",
    "from keras.preprocessing.text import Tokenizer\n",
    "from tensorflow.keras.preprocessing.sequence import pad_sequences\n",
    "from keras.layers import Dense , Input , LSTM , Embedding, Dropout , Activation, GRU, Flatten\n",
    "from keras.layers import Bidirectional, GlobalMaxPool1D\n",
    "from keras.models import Model, Sequential\n",
    "from keras.layers import Convolution1D\n",
    "from keras import initializers, regularizers, constraints, optimizers, layers\n",
    "\n",
    "from transformers import AutoTokenizer,TFAutoModel,AutoModel\n"
   ]
  },
  {
   "cell_type": "code",
   "execution_count": 2,
   "metadata": {},
   "outputs": [
    {
     "data": {
      "text/html": [
       "<div>\n",
       "<style scoped>\n",
       "    .dataframe tbody tr th:only-of-type {\n",
       "        vertical-align: middle;\n",
       "    }\n",
       "\n",
       "    .dataframe tbody tr th {\n",
       "        vertical-align: top;\n",
       "    }\n",
       "\n",
       "    .dataframe thead th {\n",
       "        text-align: right;\n",
       "    }\n",
       "</style>\n",
       "<table border=\"1\" class=\"dataframe\">\n",
       "  <thead>\n",
       "    <tr style=\"text-align: right;\">\n",
       "      <th></th>\n",
       "      <th>narasi</th>\n",
       "      <th>judul</th>\n",
       "      <th>label</th>\n",
       "    </tr>\n",
       "  </thead>\n",
       "  <tbody>\n",
       "    <tr>\n",
       "      <th>0</th>\n",
       "      <td>caler tryout radio talk show recently shared t...</td>\n",
       "      <td>pemakaian masker menyebabkan penyakit legionaires</td>\n",
       "      <td>1</td>\n",
       "    </tr>\n",
       "    <tr>\n",
       "      <th>1</th>\n",
       "      <td>ythseluruh angota grup sesuai instruksi gubern...</td>\n",
       "      <td>instruksi gubernur jateng tentang penilangan b...</td>\n",
       "      <td>1</td>\n",
       "    </tr>\n",
       "    <tr>\n",
       "      <th>2</th>\n",
       "      <td>jokowi adalah presiden terbaik dalam sejarah b...</td>\n",
       "      <td>foto jim rohn jokowi adalah presiden terbaik d...</td>\n",
       "      <td>1</td>\n",
       "    </tr>\n",
       "    <tr>\n",
       "      <th>3</th>\n",
       "      <td>maf mas dan mbak ini bukan politik tapi kenyat...</td>\n",
       "      <td>ini bukan politik tapi kenyatan pak jokowi ber...</td>\n",
       "      <td>1</td>\n",
       "    </tr>\n",
       "    <tr>\n",
       "      <th>4</th>\n",
       "      <td>kadrun jika lihat foto ini panas dingin</td>\n",
       "      <td>foto kadrun jika lihat foto ini panas dingin</td>\n",
       "      <td>1</td>\n",
       "    </tr>\n",
       "  </tbody>\n",
       "</table>\n",
       "</div>"
      ],
      "text/plain": [
       "                                              narasi  \\\n",
       "0  caler tryout radio talk show recently shared t...   \n",
       "1  ythseluruh angota grup sesuai instruksi gubern...   \n",
       "2  jokowi adalah presiden terbaik dalam sejarah b...   \n",
       "3  maf mas dan mbak ini bukan politik tapi kenyat...   \n",
       "4            kadrun jika lihat foto ini panas dingin   \n",
       "\n",
       "                                               judul  label  \n",
       "0  pemakaian masker menyebabkan penyakit legionaires      1  \n",
       "1  instruksi gubernur jateng tentang penilangan b...      1  \n",
       "2  foto jim rohn jokowi adalah presiden terbaik d...      1  \n",
       "3  ini bukan politik tapi kenyatan pak jokowi ber...      1  \n",
       "4       foto kadrun jika lihat foto ini panas dingin      1  "
      ]
     },
     "execution_count": 2,
     "metadata": {},
     "output_type": "execute_result"
    }
   ],
   "source": [
    "df_train = pd.read_csv('datasetHoax.csv')\n",
    "df_train.head()"
   ]
  },
  {
   "cell_type": "code",
   "execution_count": 3,
   "metadata": {},
   "outputs": [
    {
     "data": {
      "text/plain": [
       "narasi    0\n",
       "judul     0\n",
       "label     0\n",
       "dtype: int64"
      ]
     },
     "execution_count": 3,
     "metadata": {},
     "output_type": "execute_result"
    }
   ],
   "source": [
    "df_train.isna().sum()"
   ]
  },
  {
   "attachments": {},
   "cell_type": "markdown",
   "metadata": {},
   "source": [
    "There is no missing value, we can continue to the next step."
   ]
  },
  {
   "cell_type": "code",
   "execution_count": 5,
   "metadata": {},
   "outputs": [],
   "source": [
    "def clean(text) : \n",
    "\n",
    "  text_cleaning_re = \"@\\S+|https?:\\S+|http?:\\S|[#]+|[^A-Za-z0-9]+\"\n",
    "  text_cleaning_hash = \"#[A-Za-z0-9]+\" \n",
    "  text_cleaning_num = \"(^|\\W)\\d+\"\n",
    "\n",
    "  text = re.sub(text_cleaning_hash, \" \", text).strip()\n",
    "  text = re.sub(text_cleaning_num, \" \", text).strip()\n",
    "  text = re.sub(text_cleaning_re, \" \", text).strip()\n",
    "  \n",
    "  text = text.strip()\n",
    "\n",
    "  out = []\n",
    "  for word in text.split() :\n",
    "    # try : \n",
    "    #   out.append(word.replace(word, slang[word]))\n",
    "    # except Exception as e : \n",
    "    out.append(word)\n",
    "      \n",
    "  return pytypo.correct_sentence(\" \".join(out).strip())"
   ]
  },
  {
   "cell_type": "code",
   "execution_count": 9,
   "metadata": {},
   "outputs": [],
   "source": [
    "def freeEmoji(text):\n",
    "    allchars = [str for str in text]\n",
    "    emoji_list = [c for c in allchars if c in emoji.EMOJI_DATA]\n",
    "    clean_text = ' '.join([str for str in text.split() if not any(i in str for i in emoji_list)])\n",
    "    return clean_text"
   ]
  },
  {
   "cell_type": "code",
   "execution_count": 10,
   "metadata": {},
   "outputs": [],
   "source": [
    "\n",
    "df_train[\"narasi\"] = df_train[\"narasi\"].apply(clean)\n",
    "df_train[\"judul\"] = df_train[\"judul\"].apply(clean)\n",
    "\n",
    "\n",
    "df_train[\"narasi\"] = df_train[\"narasi\"].apply(freeEmoji)\n",
    "df_train[\"judul\"] = df_train[\"judul\"].apply(freeEmoji)\n"
   ]
  },
  {
   "cell_type": "code",
   "execution_count": 11,
   "metadata": {},
   "outputs": [
    {
     "data": {
      "text/html": [
       "<div>\n",
       "<style scoped>\n",
       "    .dataframe tbody tr th:only-of-type {\n",
       "        vertical-align: middle;\n",
       "    }\n",
       "\n",
       "    .dataframe tbody tr th {\n",
       "        vertical-align: top;\n",
       "    }\n",
       "\n",
       "    .dataframe thead th {\n",
       "        text-align: right;\n",
       "    }\n",
       "</style>\n",
       "<table border=\"1\" class=\"dataframe\">\n",
       "  <thead>\n",
       "    <tr style=\"text-align: right;\">\n",
       "      <th></th>\n",
       "      <th>narasi</th>\n",
       "      <th>judul</th>\n",
       "      <th>label</th>\n",
       "    </tr>\n",
       "  </thead>\n",
       "  <tbody>\n",
       "    <tr>\n",
       "      <th>0</th>\n",
       "      <td>caler tryout radio talk show recently shared t...</td>\n",
       "      <td>pemakaian masker menyebabkan penyakit legionaires</td>\n",
       "      <td>1</td>\n",
       "    </tr>\n",
       "    <tr>\n",
       "      <th>1</th>\n",
       "      <td>ythseluruh angota grup sesuai instruksi gubern...</td>\n",
       "      <td>instruksi gubernur jateng tentang penilangan b...</td>\n",
       "      <td>1</td>\n",
       "    </tr>\n",
       "    <tr>\n",
       "      <th>2</th>\n",
       "      <td>jokowi adalah presiden terbaik dalam sejarah b...</td>\n",
       "      <td>foto jim rohn jokowi adalah presiden terbaik d...</td>\n",
       "      <td>1</td>\n",
       "    </tr>\n",
       "    <tr>\n",
       "      <th>3</th>\n",
       "      <td>maf mas dan mbak ini bukan politik tapi kenyat...</td>\n",
       "      <td>ini bukan politik tapi kenyatan pak jokowi ber...</td>\n",
       "      <td>1</td>\n",
       "    </tr>\n",
       "    <tr>\n",
       "      <th>4</th>\n",
       "      <td>kadrun jika lihat foto ini panas dingin</td>\n",
       "      <td>foto kadrun jika lihat foto ini panas dingin</td>\n",
       "      <td>1</td>\n",
       "    </tr>\n",
       "  </tbody>\n",
       "</table>\n",
       "</div>"
      ],
      "text/plain": [
       "                                              narasi  \\\n",
       "0  caler tryout radio talk show recently shared t...   \n",
       "1  ythseluruh angota grup sesuai instruksi gubern...   \n",
       "2  jokowi adalah presiden terbaik dalam sejarah b...   \n",
       "3  maf mas dan mbak ini bukan politik tapi kenyat...   \n",
       "4            kadrun jika lihat foto ini panas dingin   \n",
       "\n",
       "                                               judul  label  \n",
       "0  pemakaian masker menyebabkan penyakit legionaires      1  \n",
       "1  instruksi gubernur jateng tentang penilangan b...      1  \n",
       "2  foto jim rohn jokowi adalah presiden terbaik d...      1  \n",
       "3  ini bukan politik tapi kenyatan pak jokowi ber...      1  \n",
       "4       foto kadrun jika lihat foto ini panas dingin      1  "
      ]
     },
     "execution_count": 11,
     "metadata": {},
     "output_type": "execute_result"
    }
   ],
   "source": [
    "df_train.head()"
   ]
  },
  {
   "cell_type": "code",
   "execution_count": 13,
   "metadata": {},
   "outputs": [
    {
     "name": "stderr",
     "output_type": "stream",
     "text": [
      "Downloading (…)okenizer_config.json: 100%|██████████| 2.00/2.00 [00:00<00:00, 326B/s]\n",
      "c:\\Users\\User\\Anaconda3\\envs\\metopen\\lib\\site-packages\\huggingface_hub\\file_download.py:129: UserWarning: `huggingface_hub` cache-system uses symlinks by default to efficiently store duplicated files but your machine does not support them in C:\\Users\\User\\.cache\\huggingface\\hub. Caching files will still work but in a degraded version that might require more space on your disk. This warning can be disabled by setting the `HF_HUB_DISABLE_SYMLINKS_WARNING` environment variable. For more details, see https://huggingface.co/docs/huggingface_hub/how-to-cache#limitations.\n",
      "To support symlinks on Windows, you either need to activate Developer Mode or to run Python as an administrator. In order to see activate developer mode, see this article: https://docs.microsoft.com/en-us/windows/apps/get-started/enable-your-device-for-development\n",
      "  warnings.warn(message)\n",
      "Downloading (…)lve/main/config.json: 100%|██████████| 1.53k/1.53k [00:00<00:00, 374kB/s]\n",
      "Downloading (…)solve/main/vocab.txt: 100%|██████████| 229k/229k [00:00<00:00, 277kB/s]\n",
      "Downloading (…)cial_tokens_map.json: 100%|██████████| 112/112 [00:00<00:00, 32.0kB/s]\n",
      "Downloading (…)\"tf_model.h5\";: 100%|██████████| 656M/656M [18:59<00:00, 576kB/s] \n",
      "Some layers from the model checkpoint at indobenchmark/indobert-base-p2 were not used when initializing TFBertModel: ['mlm___cls', 'nsp___cls']\n",
      "- This IS expected if you are initializing TFBertModel from the checkpoint of a model trained on another task or with another architecture (e.g. initializing a BertForSequenceClassification model from a BertForPreTraining model).\n",
      "- This IS NOT expected if you are initializing TFBertModel from the checkpoint of a model that you expect to be exactly identical (initializing a BertForSequenceClassification model from a BertForSequenceClassification model).\n",
      "All the layers of TFBertModel were initialized from the model checkpoint at indobenchmark/indobert-base-p2.\n",
      "If your task is similar to the task the model of the checkpoint was trained on, you can already use TFBertModel for predictions without further training.\n"
     ]
    }
   ],
   "source": [
    "tokenizer = AutoTokenizer.from_pretrained(\"indobenchmark/indobert-base-p2\")\n",
    "IndoBert = TFAutoModel.from_pretrained(\"indobenchmark/indobert-base-p2\")"
   ]
  }
 ],
 "metadata": {
  "kernelspec": {
   "display_name": "metopen",
   "language": "python",
   "name": "metopen"
  },
  "language_info": {
   "codemirror_mode": {
    "name": "ipython",
    "version": 3
   },
   "file_extension": ".py",
   "mimetype": "text/x-python",
   "name": "python",
   "nbconvert_exporter": "python",
   "pygments_lexer": "ipython3",
   "version": "3.10.6"
  },
  "orig_nbformat": 4
 },
 "nbformat": 4,
 "nbformat_minor": 2
}
